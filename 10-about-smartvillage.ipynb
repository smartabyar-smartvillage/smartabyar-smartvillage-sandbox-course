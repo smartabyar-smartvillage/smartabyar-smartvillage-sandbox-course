{
 "cells": [
  {
   "cell_type": "markdown",
   "id": "0518244f-cf18-45c3-8ee1-3cbbecfba478",
   "metadata": {},
   "source": [
    "## About the Smarta Byar Smart Village Platform in the Smart Village Platform\n",
    "\n",
    "The Smart Village Platform is used by researchers to configure smart devices for improving traffic light configuration, and running on reports on traffic simulations configured at intersections in the world. \n"
   ]
  },
  {
   "cell_type": "markdown",
   "id": "d93baf20-7419-4c47-be53-2e33907fe263",
   "metadata": {},
   "source": [
    "## Deploy the Smarta Byar Smart Village Platform in the OpenShift Developer Sandbox"
   ]
  },
  {
   "cell_type": "markdown",
   "id": "d542f60e-6d62-4b33-be7c-58d4c3f42aea",
   "metadata": {},
   "source": [
    "Before deploying the Smart Village platform, we are going to deploy the demo authentication secret connected to the Red Hat Single Sign-On server deployed by the Smart Village project in the New England Research Cloud at https://sso.smartabyarsmartvillage.org. This will allow GitHub users to connect to their own Smart Village applications deployed in their own OpenShift Sandbox and access all the data in their own sandbox application, and some minimal public data from the main Smart Village site deployed in the New England Research Cloud at https://www.smartabyarsmartvillage.org. "
   ]
  },
  {
   "cell_type": "code",
   "execution_count": null,
   "id": "e7196243-1122-400a-b88f-909ec0a52edc",
   "metadata": {},
   "outputs": [],
   "source": [
    "%%bash\n",
    "oc apply -f ~/smartvillage-operator/static/demo-auth-secret.yaml\n",
    "echo DONE"
   ]
  },
  {
   "cell_type": "markdown",
   "id": "3943fe77-0430-48b2-9a25-95ea67e3a887",
   "metadata": {},
   "source": [
    "If you are curious what the SmartaByarSmartVillage custom resource definition looks like that you are deploying in the Sandbox, run the command below. "
   ]
  },
  {
   "cell_type": "code",
   "execution_count": null,
   "id": "1ef2f6bc-4e99-4e05-9cba-1dc7209117f2",
   "metadata": {},
   "outputs": [],
   "source": [
    "%%bash\n",
    "cat ~/smartvillage-operator/kustomize/overlays/sandbox/smartabyarsmartvillages/smartvillage/smartabyarsmartvillage.yaml\n",
    "echo DONE"
   ]
  },
  {
   "cell_type": "markdown",
   "id": "04f389b6-e614-4e31-ab23-39e4ae7923c8",
   "metadata": {},
   "source": [
    "Here are some useful things to note about the configuration of the IoT Agent JSON. \n",
    "\n",
    "- `auth:` We configure the authentication to our Red Hat Single Sign-On Server, to register OAuth2 / OpenID Connect authentication and authorization in the application which is integrated with GitHub. \n",
    "- `ngsi_ld:` We configure an NGSI-LD to Smart Village Sync application that integrates with the context broker. This service subscribes to IoT Edge device data changes in the context broker. \n",
    "- `kafka:` We disable Kafka in the Smart Village application because running Kafka requires too many resources that we don't have in a Developer Sandbox. \n",
    "- `zookeeper:` We will disable Zookeeper cluster manager because with all the starting and stopping of containers in the sandbox, the applications using Zookeeper as a cluster manager can start throwing errors when being restarted or having the cluster manager go down. \n",
    "- `postgres:` We configure the host to the PostgreSQL service for persistence in the Smarta Byar Smart Village Platform. \n",
    "- `solr:` We configure the host to the Solr service for serving up API data in the Smarta Byar Smart Village Platform. \n",
    "- The `site:` definition defines the memory and CPU requests and limits for our Smart Village pod. We have to keep this lower than I would recommend for a production deployment because we have limited resources available in the Developer Sandbox for the many running Smart Village services. \n",
    "- `import_data:` The Smart Village Platform can import data from various sources, but for this Developer Sandbox configuration, we disable data import. \n",
    "- `auth_role:` Each of the APIs in the Smart Village Platform require some kind of role-based access control. We have configured our Red Hat Single Sign-On Server `smartvillage-public` client to give all users the role `Public`. This means that any GitHub user who accesses their own application running in their Sandbox will be able to access the API. \n",
    "\n",
    "For more information about the SmartaByarSmartVillage custom resource definition, [see the full SmartaByarSmartVillage schema here](https://github.com/smartabyar-smartvillage/smartvillage-operator/blob/main/config/crd/bases/smartvillage.computate.org_smartabyarsmartvillages.yaml). "
   ]
  },
  {
   "cell_type": "markdown",
   "id": "9e45c8ca-e55e-41b8-b2fc-2952edad9cc0",
   "metadata": {},
   "source": [
    "Run the Ansible Playbook below to deploy the Smart Village Platform to the cloud. \n"
   ]
  },
  {
   "cell_type": "code",
   "execution_count": null,
   "id": "1d37a553-62be-4b6e-a7bb-f3a9093f857b",
   "metadata": {},
   "outputs": [],
   "source": [
    "%%bash\n",
    "ansible-playbook ~/smartvillage-operator/apply-smartabyarsmartvillage.yaml \\\n",
    "  -e ansible_operator_meta_namespace=$(cat /var/run/secrets/kubernetes.io/serviceaccount/namespace) \\\n",
    "  -e crd_path=~/smartvillage-operator/kustomize/overlays/sandbox/smartabyarsmartvillages/smartvillage/smartabyarsmartvillage.yaml\n",
    "echo DONE"
   ]
  },
  {
   "cell_type": "markdown",
   "id": "8d6b9043-118e-4f09-b553-a4fd3e4d0374",
   "metadata": {
    "tags": []
   },
   "source": [
    "### View Smart Village pod details\n",
    "After running the Ansible Playbook, it will take a minute before the Smart Village pod is up and running. Run the command below until the Smart Village pod health checks are `READY 1/1` and `STATUS Running`. "
   ]
  },
  {
   "cell_type": "code",
   "execution_count": null,
   "id": "4642ab77-a53a-4e3b-ba6f-da3fe7f791c9",
   "metadata": {
    "tags": []
   },
   "outputs": [],
   "source": [
    "%%bash\n",
    "oc get pod -l app=smartabyar-smartvillage-web\n",
    "oc wait pod -l app=smartabyar-smartvillage-web --for=condition=Ready --timeout=5m\n",
    "oc get pod -l app=smartabyar-smartvillage-web\n",
    "echo DONE"
   ]
  },
  {
   "cell_type": "markdown",
   "id": "cd198430-2694-4c59-a256-d7a08367cecd",
   "metadata": {},
   "source": [
    "### View Smarta Byar Smart Village pod logs\n",
    "If your Smarta Byar Smart Village pod does not reach the STATUS Running, you can run the command below to view the pod logs of Smarta Byar Smart Village and check for other errors that may have occured. "
   ]
  },
  {
   "cell_type": "code",
   "execution_count": null,
   "id": "c3ed9ecc-6d74-4711-a27e-242094fe05a2",
   "metadata": {},
   "outputs": [],
   "source": [
    "%%bash\n",
    "oc logs -l app=smartabyar-smartvillage-web\n",
    "echo DONE"
   ]
  },
  {
   "cell_type": "markdown",
   "id": "8e50c315-685d-41e5-8dea-fec9e6861371",
   "metadata": {},
   "source": [
    "## Next...\n",
    "I hope that answers your questions about IoT Agent JSON in the Smart Village Platform. \n",
    "- If you have additional questions or issues, please [create an issue for the course here](https://github.com/smartabyar-smartvillage/smartabyar-smartvillage-sandbox-course/issues). \n",
    "- Otherwise, please continue to the next notebook [11-deploy-smart-devices.ipynb](11-deploy-traffic-flow-observed-devices.ipynb). "
   ]
  },
  {
   "cell_type": "code",
   "execution_count": null,
   "id": "a3d68b82-e612-4147-a4bd-f4ca0c7cfd05",
   "metadata": {},
   "outputs": [],
   "source": []
  }
 ],
 "metadata": {
  "kernelspec": {
   "display_name": "Python 3.9",
   "language": "python",
   "name": "python3"
  },
  "language_info": {
   "codemirror_mode": {
    "name": "ipython",
    "version": 3
   },
   "file_extension": ".py",
   "mimetype": "text/x-python",
   "name": "python",
   "nbconvert_exporter": "python",
   "pygments_lexer": "ipython3",
   "version": "3.9.18"
  }
 },
 "nbformat": 4,
 "nbformat_minor": 5
}
