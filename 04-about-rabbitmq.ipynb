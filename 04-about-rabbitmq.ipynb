{
 "cells": [
  {
   "cell_type": "markdown",
   "id": "0518244f-cf18-45c3-8ee1-3cbbecfba478",
   "metadata": {},
   "source": [
    "## About the RabbitMQ message broker in the Smart Village Platform\n",
    "\n",
    "> \"I sent you a POST, why didn't you respond?\" **- REST Client**\n",
    "\n",
    "> \"I can't respond right now. I'll probably send you a message later.\" **- Message Broker**\n",
    "\n",
    "A message broker like RabbitMQ can receive messages from smart devices and forward them on to an IoT Agent to process the message. Smart devices often support sending AMQP or MQTT protocol messages. RabbitMQ supports AMQP, but the full MQTT version 5 spec used by FIWARE components is not yet supported in RabbitMQ, but will be released in RabbitMQ version 3.13, see [the RabbitMQ releases](https://www.rabbitmq.com/versions.html) and [the RabbitMQ post on MQTT 5](https://blog.rabbitmq.com/posts/2023/07/mqtt5/). Red Hat AMQ Broker is another message broker that supports AMQP and MQTT version 5, but Red Hat AMQ Broker is not available to be deployed in the Red Hat OpenShift Sandbox, so we'll use RabbitMQ. \n"
   ]
  },
  {
   "cell_type": "markdown",
   "id": "d93baf20-7419-4c47-be53-2e33907fe263",
   "metadata": {},
   "source": [
    "## Deploy the RabbitMQ in the OpenShift Developer Sandbox"
   ]
  },
  {
   "cell_type": "markdown",
   "id": "3943fe77-0430-48b2-9a25-95ea67e3a887",
   "metadata": {},
   "source": [
    "If you are curious what the EdgeRabbitMQ custom resource definition looks like that you are deploying in the Sandbox, run the command below. "
   ]
  },
  {
   "cell_type": "code",
   "execution_count": null,
   "id": "1ef2f6bc-4e99-4e05-9cba-1dc7209117f2",
   "metadata": {},
   "outputs": [],
   "source": [
    "%%bash\n",
    "cat ~/smartvillage-operator/kustomize/overlays/sandbox/edgerabbitmqs/rabbitmq/edgerabbitmq.yaml\n",
    "echo DONE"
   ]
  },
  {
   "cell_type": "markdown",
   "id": "04f389b6-e614-4e31-ab23-39e4ae7923c8",
   "metadata": {},
   "source": [
    "Here are some useful things to note about the configuration of RabbitMQ. \n",
    "\n",
    "- `storage:` We disable persistent volume storage on RabbitMQ because we are limited to a maximum of 5 persistent volumes in the Developer Sandbox, and we need to save those volumes for the services storing more permanent data. \n",
    "- The `resources:` definition defines the memory and CPU requests and limits for our RabbitMQ pod. We have to keep this lower than I would recommend for a production deployment because we have limited resources available in the Developer Sandbox for the many running Smart Village services. \n",
    "\n",
    "For more information about the EdgeRabbitMQ custom resource definition, [see the full EdgeRabbitMQ schema here](https://github.com/smartabyar-smartvillage/smartvillage-operator/blob/main/config/crd/bases/smartvillage.computate.org_edgerabbitmqs.yaml). "
   ]
  },
  {
   "cell_type": "markdown",
   "id": "8ba33a8c-898b-4912-9044-f891eff4f60f",
   "metadata": {},
   "source": [
    "Run the Ansible Playbook below to deploy RabbitMQ to the cloud. "
   ]
  },
  {
   "cell_type": "code",
   "execution_count": null,
   "id": "e07cd1b3-ba1f-4095-8b3b-d7d92214206b",
   "metadata": {},
   "outputs": [],
   "source": [
    "%%bash\n",
    "ansible-playbook ~/smartvillage-operator/apply-edgerabbitmq.yaml \\\n",
    "  -e ansible_operator_meta_namespace=$(oc project -q) \\\n",
    "  -e crd_path=~/smartvillage-operator/kustomize/overlays/sandbox/edgerabbitmqs/rabbitmq/edgerabbitmq.yaml\n",
    "echo DONE"
   ]
  },
  {
   "cell_type": "markdown",
   "id": "5506cbb0-0ce6-4108-9169-b24c5751754c",
   "metadata": {},
   "source": [
    "### View RabbitMQ pod details\n",
    "After running the Ansible Playbook, it will take a minute before the RabbitMQ pod is up and running. Run the command below until the RabbitMQ pod health checks are `READY 1/1` and `STATUS Running`. "
   ]
  },
  {
   "cell_type": "code",
   "execution_count": null,
   "id": "d5a191bc-bfd7-4f04-a26c-90d285b31538",
   "metadata": {},
   "outputs": [],
   "source": [
    "%%bash\n",
    "oc get pod -l app.kubernetes.io/name=rabbitmq\n",
    "oc wait pod -l app.kubernetes.io/name=rabbitmq --for=condition=Ready --timeout=2m\n",
    "oc get pod -l app.kubernetes.io/name=rabbitmq\n",
    "echo DONE"
   ]
  },
  {
   "cell_type": "markdown",
   "id": "cd198430-2694-4c59-a256-d7a08367cecd",
   "metadata": {},
   "source": [
    "### View RabbitMQ pod logs\n",
    "If your RabbitMQ pod does not reach the STATUS Running, you can run the command below to view the pod logs of RabbitMQ and check for other errors that may have occured. "
   ]
  },
  {
   "cell_type": "code",
   "execution_count": null,
   "id": "c3ed9ecc-6d74-4711-a27e-242094fe05a2",
   "metadata": {},
   "outputs": [],
   "source": [
    "%%bash\n",
    "oc logs -l app.kubernetes.io/name=rabbitmq\n",
    "echo DONE"
   ]
  },
  {
   "cell_type": "markdown",
   "id": "8e50c315-685d-41e5-8dea-fec9e6861371",
   "metadata": {},
   "source": [
    "## Next...\n",
    "I hope that answers your questions about RabbitMQ in the Smart Village Platform. \n",
    "- If you have additional questions or issues, please [create an issue for the course here](https://github.com/smartabyar-smartvillage/smartabyar-smartvillage-sandbox-course/issues). \n",
    "- Otherwise, please continue to the next notebook [05-about-postgres.ipynb](05-about-postgres.ipynb). "
   ]
  },
  {
   "cell_type": "code",
   "execution_count": null,
   "id": "a3d68b82-e612-4147-a4bd-f4ca0c7cfd05",
   "metadata": {},
   "outputs": [],
   "source": []
  }
 ],
 "metadata": {
  "kernelspec": {
   "display_name": "Python 3.9",
   "language": "python",
   "name": "python3"
  },
  "language_info": {
   "codemirror_mode": {
    "name": "ipython",
    "version": 3
   },
   "file_extension": ".py",
   "mimetype": "text/x-python",
   "name": "python",
   "nbconvert_exporter": "python",
   "pygments_lexer": "ipython3",
   "version": "3.9.18"
  }
 },
 "nbformat": 4,
 "nbformat_minor": 5
}
