{
 "cells": [
  {
   "cell_type": "markdown",
   "id": "151d88f7-121a-4827-a4aa-1e10e78283e6",
   "metadata": {},
   "source": [
    "# Deploy FIWARE and Smart Village microservices\n",
    "\n",
    "Have you heard the joke, how microservices were invented? A software engineer had a task to take an existing monolithic software application and split it into microservices. The engineer connected 5 cell phones to the existing application, glued each phone to a picture frame, and showed the application running on all 5 phones. Real microservices run in modern cloud environments like Red Hat OpenShift. \n",
    "\n",
    "A working cloud project that is capable of receiving data from IoT smart devices and processing edge device data is composed of several important microservices. We will deploy each of the required microservices below to begin sending, receiving, and analyzing IoT edge device data. Then in later notebooks, we will review each microservice and how it works inside of the Smart Village Platform. "
   ]
  },
  {
   "cell_type": "markdown",
   "id": "f751688e-ba5f-4ffc-ba31-be1a8c22be12",
   "metadata": {
    "tags": []
   },
   "source": [
    "## Clone the Smart Village Operator\n",
    "\n",
    "We will be using the open source smartvillage-operator to set up the rest of the course.\n",
    "We can clone the smartvillage-operator from GitHub which is written in Ansible. \n",
    "An Operator is usually installed into an OpenShift environment by a cluster admin, \n",
    "but the Smart Village Operator can run as Ansible Playbooks without installing the Custom Resource Definitions and manager into the OpenShift environment. \n",
    "Run the command below to clone the smartvillage-operator. "
   ]
  },
  {
   "cell_type": "code",
   "execution_count": null,
   "id": "8cc6613c-f79a-4bff-9b20-e4c7b5a99b5d",
   "metadata": {},
   "outputs": [],
   "source": [
    "%%bash\n",
    "git clone https://github.com/smartabyar-smartvillage/smartvillage-operator.git ~/smartvillage-operator\n",
    "echo DONE"
   ]
  },
  {
   "cell_type": "markdown",
   "id": "0518244f-cf18-45c3-8ee1-3cbbecfba478",
   "metadata": {},
   "source": [
    "## Deploy the MongoDB NOSQL Database in the OpenShift Developer Sandbox\n",
    "\n",
    "A MongoDB No-SQL Database is required for FIWARE IoT Agents to store smart device registration data about each smart device in the project. \n",
    "\n",
    "Run the Ansible Playbook below to deploy MongoDB to the cloud. You can review the [03-about-mongodb.ipynb](03-about-mongodb.ipynb) notebook later in the course to troubleshoot, or find more details about the deployment of MongoDB. "
   ]
  },
  {
   "cell_type": "code",
   "execution_count": null,
   "id": "35c83bd0-d82f-4d02-94a6-8ff41331845b",
   "metadata": {},
   "outputs": [],
   "source": [
    "%%bash\n",
    "ansible-playbook ~/smartvillage-operator/apply-edgemongodb.yaml \\\n",
    "  -e ansible_operator_meta_namespace=$(oc project -q) \\\n",
    "  -e crd_path=~/smartvillage-operator/kustomize/overlays/sandbox/edgemongodbs/mongodb/edgemongodb.yaml\n",
    "echo DONE"
   ]
  },
  {
   "cell_type": "markdown",
   "id": "9f05431d-cc70-4895-88a4-f0152c19686e",
   "metadata": {},
   "source": [
    "### View MongoDB pod details\n",
    "After running the Ansible Playbook, it will take a minute before the MongoDB pod is up and running. Run the command below until the MongoDB pod health checks are `READY 2/2` and `STATUS Running`. "
   ]
  },
  {
   "cell_type": "code",
   "execution_count": null,
   "id": "ca249a7b-e7a5-44d1-bc61-a20fb2490ed5",
   "metadata": {},
   "outputs": [],
   "source": [
    "%%bash\n",
    "oc get pod -l app.kubernetes.io/instance=mongodb\n",
    "oc wait pod -l app.kubernetes.io/instance=mongodb --for=condition=Ready --timeout=2m\n",
    "oc get pod -l app.kubernetes.io/instance=mongodb\n",
    "echo DONE"
   ]
  },
  {
   "cell_type": "markdown",
   "id": "12633dc3-21e0-4c1b-b4a7-fb0d7c860a8e",
   "metadata": {},
   "source": [
    "## Deploy the RabbitMQ in the OpenShift Developer Sandbox\n",
    "A message broker like RabbitMQ can receive messages from smart devices and forward them on to an IoT Agent to process the message. \n",
    "\n",
    "Run the Ansible Playbook below to deploy RabbitMQ to the cloud. You can review the [04-about-rabbitmq.ipynb](04-about-rabbitmq.ipynb) notebook later in the course to troubleshoot, or find more details about the deployment of RabbitMQ. "
   ]
  },
  {
   "cell_type": "code",
   "execution_count": null,
   "id": "27166c9e-f605-4468-84ed-7ff652e050a3",
   "metadata": {},
   "outputs": [],
   "source": [
    "%%bash\n",
    "ansible-playbook ~/smartvillage-operator/apply-edgerabbitmq.yaml \\\n",
    "  -e ansible_operator_meta_namespace=$(oc project -q) \\\n",
    "  -e crd_path=~/smartvillage-operator/kustomize/overlays/sandbox/edgerabbitmqs/rabbitmq/edgerabbitmq.yaml\n",
    "echo DONE"
   ]
  },
  {
   "cell_type": "markdown",
   "id": "9fcc7218-198a-482f-b419-c7b2b74b1b42",
   "metadata": {},
   "source": [
    "### View RabbitMQ pod details\n",
    "After running the Ansible Playbook, it will take a minute before the RabbitMQ pod is up and running. Run the command below until the RabbitMQ pod health checks are `READY 1/1` and `STATUS Running`. "
   ]
  },
  {
   "cell_type": "code",
   "execution_count": null,
   "id": "8a25567a-ede2-423d-a390-a9a66e106c69",
   "metadata": {},
   "outputs": [],
   "source": [
    "%%bash\n",
    "oc get pod -l app.kubernetes.io/name=rabbitmq\n",
    "oc wait pod -l app.kubernetes.io/name=rabbitmq --for=condition=Ready --timeout=2m\n",
    "oc get pod -l app.kubernetes.io/name=rabbitmq\n",
    "echo DONE"
   ]
  },
  {
   "cell_type": "markdown",
   "id": "5daf9750-92d1-4f20-b922-4b6c551c37fe",
   "metadata": {},
   "source": [
    "## Deploy PostgreSQL in the OpenShift Developer Sandbox\n",
    "A relational SQL database like PostgreSQL is required by the ScorpioBroker to store smart device context data for each smart device. We also store configurable user data like traffic simulations, simulation reports, and more in the Smart Village application with PostgreSQL. \n",
    "\n",
    "Run the command below to deploy the database create SQL scripts as a Kubernetes ConfigMap to the cloud. These scripts will be run later, when the PostgreSQL pod is running to initialize the Smart Village database. "
   ]
  },
  {
   "cell_type": "code",
   "execution_count": null,
   "id": "ade5161a-b85d-416b-855a-408a2d7b148c",
   "metadata": {},
   "outputs": [],
   "source": [
    "%%bash\n",
    "git clone https://github.com/smartabyar-smartvillage/smartabyar-smartvillage.git ~/smartabyar-smartvillage/\n",
    "oc create configmap smartvillage-db-create --from-file ~/smartabyar-smartvillage/src/main/resources/sql/db-create.sql\n",
    "echo DONE"
   ]
  },
  {
   "cell_type": "markdown",
   "id": "7647f61b-15c1-4e84-9109-d492e592c6df",
   "metadata": {
    "tags": []
   },
   "source": [
    "Run the Ansible Playbook below to deploy PostgreSQL to the cloud. You can review the [05-about-postgres.ipynb](05-about-postgres.ipynb) notebook later in the course to troubleshoot, or find more details about the deployment of PostgreSQL. "
   ]
  },
  {
   "cell_type": "code",
   "execution_count": null,
   "id": "bddf2c71-6f7e-4ed0-ba8d-a3428f741b8d",
   "metadata": {},
   "outputs": [],
   "source": [
    "%%bash\n",
    "ansible-playbook ~/smartvillage-operator/apply-edgepostgres.yaml \\\n",
    "  -e ansible_operator_meta_namespace=$(oc project -q) \\\n",
    "  -e crd_path=~/smartvillage-operator/kustomize/overlays/sandbox/edgepostgress/postgres/edgepostgres.yaml\n",
    "echo DONE"
   ]
  },
  {
   "cell_type": "markdown",
   "id": "60842576-5c5f-4abb-a7fd-4c9f312104e3",
   "metadata": {},
   "source": [
    "You should see a play recap that has failed. \n",
    "This is expected because the postgres pod is just now getting created. \n",
    "The final tasks in the playbook expect the database create SQL scripts to be run for the smartvillage application in postgres. \n",
    "\n",
    "Retry the playbook once the postgres pod is running. \n"
   ]
  },
  {
   "cell_type": "markdown",
   "id": "22fe244c-d0f8-4011-b03d-bbed7aec74cd",
   "metadata": {
    "tags": []
   },
   "source": [
    "### View PostgreSQL pod details\n",
    "After running the Ansible Playbook, it will take a minute before the PostgreSQL pod is up and running. Run the command below until the PostgreSQL pod health checks are `READY 1/1` and `STATUS Running`. "
   ]
  },
  {
   "cell_type": "code",
   "execution_count": null,
   "id": "7bfcdf95-19cb-4224-bb24-271ff5815bb7",
   "metadata": {
    "tags": []
   },
   "outputs": [],
   "source": [
    "%%bash\n",
    "oc get pod -l app=postgres\n",
    "oc wait pod -l app=postgres --for=condition=Ready --timeout=2m\n",
    "oc get pod -l app=postgres\n",
    "echo DONE"
   ]
  },
  {
   "cell_type": "markdown",
   "id": "f16b8a9a-91de-4cb6-89c6-eefdb7d1f9af",
   "metadata": {},
   "source": [
    "Now re-run the ansible Playbook to complete the last tasks for PostgreSQL. "
   ]
  },
  {
   "cell_type": "code",
   "execution_count": null,
   "id": "767239dd-5bef-4858-baaa-ac0f3cf9744c",
   "metadata": {},
   "outputs": [],
   "source": [
    "%%bash\n",
    "ansible-playbook ~/smartvillage-operator/apply-edgepostgres.yaml \\\n",
    "  -e ansible_operator_meta_namespace=$(oc project -q) \\\n",
    "  -e crd_path=~/smartvillage-operator/kustomize/overlays/sandbox/edgepostgress/postgres/edgepostgres.yaml\n",
    "echo DONE"
   ]
  },
  {
   "cell_type": "markdown",
   "id": "e677ac40",
   "metadata": {},
   "source": [
    "### View PostgreSQL pod details\n",
    "After running the Ansible Playbook, it will take a minute before the PostgreSQL pod is up and running. Run the command below until the PostgreSQL pod health checks are `READY 1/1` and `STATUS Running`. "
   ]
  },
  {
   "cell_type": "code",
   "execution_count": null,
   "id": "f99cbee3",
   "metadata": {},
   "outputs": [],
   "source": [
    "%%bash\n",
    "oc get pod -l app=postgres\n",
    "oc wait pod -l app=postgres --for=condition=Ready --timeout=2m\n",
    "oc get pod -l app=postgres\n",
    "echo DONE"
   ]
  },
  {
   "cell_type": "markdown",
   "id": "4c91b212-ef1d-4162-ac92-d14dd879d4c7",
   "metadata": {},
   "source": [
    "## Deploy the ScorpioBroker Context Broker in the OpenShift Developer Sandbox\n",
    "A FIWARE Context Broker like ScorpioBroker is required for storing smart device entity data of vehicle traffic cameras and pedestrian traffic cameras in the project. \n",
    "\n",
    "Run the Ansible Playbook below to deploy ScorpioBroker to the cloud. You can review the [06-about-scorpiobroker.ipynb](06-about-scorpiobroker.ipynb) notebook later in the course to troubleshoot, or find more details about the deployment of ScorpioBroker. "
   ]
  },
  {
   "cell_type": "code",
   "execution_count": null,
   "id": "275ef8d5-8a82-4848-92e0-10dfa37493f7",
   "metadata": {},
   "outputs": [],
   "source": [
    "%%bash\n",
    "ansible-playbook ~/smartvillage-operator/apply-scorpiobroker.yaml \\\n",
    "  -e ansible_operator_meta_namespace=$(oc project -q) \\\n",
    "  -e crd_path=~/smartvillage-operator/kustomize/overlays/sandbox/scorpiobrokers/scorpiobroker/scorpiobroker.yaml\n",
    "echo DONE"
   ]
  },
  {
   "cell_type": "markdown",
   "id": "58e29cb8-a30f-4c93-bec3-399cc48d3885",
   "metadata": {
    "tags": []
   },
   "source": [
    "### View ScorpioBroker pod details\n",
    "After running the Ansible Playbook, it will take a minute before the ScorpioBroker pod is up and running. Run the command below until the ScorpioBroker pod health checks are `READY 1/1` and `STATUS Running`. "
   ]
  },
  {
   "cell_type": "code",
   "execution_count": null,
   "id": "d86fade1-02d9-45ec-abe5-4744d5e139ac",
   "metadata": {
    "tags": []
   },
   "outputs": [],
   "source": [
    "%%bash\n",
    "oc get pod -l app.kubernetes.io/instance=scorpiobroker\n",
    "oc wait pod -l app.kubernetes.io/instance=scorpiobroker --for=condition=Ready --timeout=2m\n",
    "oc get pod -l app.kubernetes.io/instance=scorpiobroker\n",
    "echo DONE"
   ]
  },
  {
   "cell_type": "markdown",
   "id": "c0365d07-91a1-4e15-982e-b736598a1dce",
   "metadata": {},
   "source": [
    "## Deploy the IoT Agent JSON in the OpenShift Developer Sandbox\n",
    "A FIWARE IoT Agent like IoT Agent JSON is required for smart device registration of vehicle traffic cameras and pedestrian traffic cameras in the project. \n",
    "\n",
    "Run the Ansible Playbook below to deploy IoT Agent to the cloud. You can review the [07-about-iot-agent.ipynb](07-about-iot-agent.ipynb) notebook later in the course to troubleshoot, or find more details about the deployment of IoT Agent. "
   ]
  },
  {
   "cell_type": "code",
   "execution_count": null,
   "id": "c7f1fac8-1354-41b7-9b9d-e45b90d305eb",
   "metadata": {},
   "outputs": [],
   "source": [
    "%%bash\n",
    "ansible-playbook ~/smartvillage-operator/apply-iotagentjson.yaml \\\n",
    "  -e ansible_operator_meta_namespace=$(oc project -q) \\\n",
    "  -e crd_path=~/smartvillage-operator/kustomize/overlays/sandbox/iotagentjsons/iotagent-json/iotagentjson.yaml\n",
    "echo DONE"
   ]
  },
  {
   "cell_type": "markdown",
   "id": "1d8c0709-9fe9-49ac-b722-4ac6f716eedf",
   "metadata": {
    "tags": []
   },
   "source": [
    "### View IoT Agent pod details\n",
    "After running the Ansible Playbook, it will take a minute before the IoT Agent pod is up and running. Run the command below until the IoT Agent pod health checks are `READY 1/1` and `STATUS Running`. "
   ]
  },
  {
   "cell_type": "code",
   "execution_count": null,
   "id": "3a1ea93f-7008-421b-b758-cec89dc0f584",
   "metadata": {
    "tags": []
   },
   "outputs": [],
   "source": [
    "%%bash\n",
    "oc get pod -l app.kubernetes.io/instance=iotagent-json\n",
    "oc wait pod -l app.kubernetes.io/instance=iotagent-json --for=condition=Ready --timeout=2m\n",
    "oc get pod -l app.kubernetes.io/instance=iotagent-json\n",
    "echo DONE"
   ]
  },
  {
   "cell_type": "markdown",
   "id": "01221aff-1699-4ef9-b326-33feb5c23fc3",
   "metadata": {},
   "source": [
    "## Deploy Zookeeper in the OpenShift Developer Sandbox\n",
    "A cluster manager like Apache Zookeeper is required for distributing messages and workloads to multiple pods of reactive/asynchronous microservices like Apache Solr and the Smart Village Platform. \n",
    "\n",
    "Run the Ansible Playbook below to deploy Zookeeper to the cloud. You can review the [08-about-zookeeper.ipynb](08-about-zookeeper.ipynb) notebook later in the course to troubleshoot, or find more details about the deployment of Zookeeper. "
   ]
  },
  {
   "cell_type": "code",
   "execution_count": null,
   "id": "b62b93db-e468-45cb-81fb-7d59ad6843c9",
   "metadata": {},
   "outputs": [],
   "source": [
    "%%bash\n",
    "ansible-playbook ~/smartvillage-operator/apply-edgezookeeper.yaml \\\n",
    "  -e ansible_operator_meta_namespace=$(oc project -q) \\\n",
    "  -e crd_path=~/smartvillage-operator/kustomize/overlays/sandbox/edgezookeepers/default/edgezookeeper.yaml\n",
    "echo DONE"
   ]
  },
  {
   "cell_type": "markdown",
   "id": "206b4e39-92d9-4612-8029-597d7b58659a",
   "metadata": {
    "tags": []
   },
   "source": [
    "### View Zookeeper pod details\n",
    "After running the Ansible Playbook, it will take a minute before the Zookeeper pod is up and running. Run the command below until the Zookeeper pod health checks are `READY 1/1` and `STATUS Running`. "
   ]
  },
  {
   "cell_type": "code",
   "execution_count": null,
   "id": "d0985653-15c6-4536-8102-f2bec305f028",
   "metadata": {
    "tags": []
   },
   "outputs": [],
   "source": [
    "%%bash\n",
    "oc get pod -l app=zookeeper\n",
    "oc wait pod -l app=zookeeper --for=condition=Ready --timeout=4m\n",
    "oc get pod -l app=zookeeper\n",
    "echo DONE"
   ]
  },
  {
   "cell_type": "markdown",
   "id": "0c7ca897-d10d-4232-a6bb-5088e54961b7",
   "metadata": {},
   "source": [
    "## Deploy Solr in the OpenShift Developer Sandbox\n",
    "An open source search engine like Apache Solr is required by the Smart Village application API to serve up API stored objects as quickly as possible. APIs that are backed by a search engine have numerous additional benefits compared to an API backed by a traditional relational database. A search engine is always indexed for the fastest data retrieval possible. The advanced data and query parsing of a search engine allows for extremely fast full text search, filtering, and sorting of the data. Search engine data can also be grouped, faceted, and pivoted on, for an advanced set of analytics and statistics on specific data in your query. \n",
    "\n",
    "Run the command below to deploy the default computate Solr ConfigSet as a Kubernetes ConfigMap to the cloud. These configsets will be loaded later, when the Solr pod is running to initialize the Solr ConfigSet which is the schema used for Solr Collections in the Smart Village Platform. "
   ]
  },
  {
   "cell_type": "code",
   "execution_count": null,
   "id": "d97cfad6-323f-45e1-a066-216b79e155b5",
   "metadata": {},
   "outputs": [],
   "source": [
    "%%bash\n",
    "oc apply -k ~/smartvillage-operator/kustomize/overlays/sandbox/edgesolrs/default/configmaps/\n",
    "echo DONE"
   ]
  },
  {
   "cell_type": "markdown",
   "id": "911e0c77-02c9-4910-ac1e-d3e1f6bee5f7",
   "metadata": {},
   "source": [
    "Run the Ansible Playbook below to deploy Solr to the cloud. You can review the [09-about-solr.ipynb](09-about-solr.ipynb) notebook later in the course to troubleshoot, or find more details about the deployment of Solr. "
   ]
  },
  {
   "cell_type": "code",
   "execution_count": null,
   "id": "bd25fc75-c849-426f-8547-466606150b47",
   "metadata": {},
   "outputs": [],
   "source": [
    "%%bash\n",
    "ansible-playbook ~/smartvillage-operator/apply-edgesolr.yaml \\\n",
    "  -e ansible_operator_meta_namespace=$(oc project -q) \\\n",
    "  -e crd_path=~/smartvillage-operator/kustomize/overlays/sandbox/edgesolrs/default/edgesolrs/default/edgesolr.yaml\n",
    "echo DONE"
   ]
  },
  {
   "cell_type": "markdown",
   "id": "6d50bbed-db40-4ad5-9ede-453bcfc5e8b9",
   "metadata": {},
   "source": [
    "You should see a play recap that has failed. \n",
    "This is expected because the Solr pod is just now getting created. \n",
    "The final tasks in the playbook expect the solr pod to be running to connect to the running pod and create the Solr ConfigSets and Solr Collections used by the Smart Village application. \n",
    "\n",
    "Retry the playbook once the Solr pod is running. \n"
   ]
  },
  {
   "cell_type": "markdown",
   "id": "6ed28fb4-e486-47a5-8dbe-e62c41ace60a",
   "metadata": {
    "tags": []
   },
   "source": [
    "### View Solr pod details\n",
    "After running the Ansible Playbook, it will take a minute before the Solr pod is up and running. Run the command below until the Solr pod health checks are `READY 1/1` and `STATUS Running`. "
   ]
  },
  {
   "cell_type": "code",
   "execution_count": null,
   "id": "356e069e-9b22-4c67-b703-a486e2a56058",
   "metadata": {
    "tags": []
   },
   "outputs": [],
   "source": [
    "%%bash\n",
    "oc get pod -l app=solr\n",
    "oc wait pod -l app=solr --for=condition=Ready --timeout=2m\n",
    "oc get pod -l app=solr\n",
    "echo DONE"
   ]
  },
  {
   "cell_type": "markdown",
   "id": "89116909-243e-4af1-b1f6-23c58d15d4c2",
   "metadata": {},
   "source": [
    "When the Solr pod is running, run the Ansible Playbook again. "
   ]
  },
  {
   "cell_type": "code",
   "execution_count": null,
   "id": "027d42fd-7333-4f10-bea5-8b50839d789e",
   "metadata": {},
   "outputs": [],
   "source": [
    "%%bash\n",
    "ansible-playbook ~/smartvillage-operator/apply-edgesolr.yaml \\\n",
    "  -e ansible_operator_meta_namespace=$(oc project -q) \\\n",
    "  -e crd_path=~/smartvillage-operator/kustomize/overlays/sandbox/edgesolrs/default/edgesolrs/default/edgesolr.yaml\n",
    "echo DONE"
   ]
  },
  {
   "cell_type": "markdown",
   "id": "155c05ff-be49-48db-b9d9-883c467b41a8",
   "metadata": {},
   "source": [
    "## Deploy the SmartaByarSmartVillage in the OpenShift Developer Sandbox\n",
    "The Smart Village Platform is used by researchers to configure smart devices for improving traffic light configuration, and running on reports on traffic simulations configured at intersections in the world. \n",
    "\n",
    "Before deploying the Smart Village platform, we are going to deploy the demo authentication secret connected to the Red Hat Single Sign-On server deployed by the Smart Village project in the New England Research Cloud at https://sso.smartabyarsmartvillage.org. This will allow GitHub users to connect to their own Smart Village applications deployed in their own OpenShift Sandbox and access all the data in their own sandbox application, and some minimal public data from the main Smart Village site deployed in the New England Research Cloud at https://www.smartabyarsmartvillage.org. "
   ]
  },
  {
   "cell_type": "code",
   "execution_count": null,
   "id": "32166789-ee41-489d-9929-db8f6df0600c",
   "metadata": {},
   "outputs": [],
   "source": [
    "%%bash\n",
    "oc apply -f ~/smartvillage-operator/static/demo-auth-secret.yaml\n",
    "echo DONE"
   ]
  },
  {
   "cell_type": "markdown",
   "id": "59dd54a4-a6d2-491c-b488-567bc5ef58ac",
   "metadata": {},
   "source": [
    "Run the Ansible Playbook below to deploy the Smart Village Platform to the cloud. You can review the [10-about-smartvillage.ipynb](10-about-smartvillage.ipynb) notebook later in the course to troubleshoot, or find more details about the deployment of the Smart Village Platform. \n"
   ]
  },
  {
   "cell_type": "code",
   "execution_count": null,
   "id": "816139d8-cd8e-4432-81dc-e9ed44d070e0",
   "metadata": {},
   "outputs": [],
   "source": [
    "%%bash\n",
    "ansible-playbook ~/smartvillage-operator/apply-smartabyarsmartvillage.yaml \\\n",
    "  -e ansible_operator_meta_namespace=$(oc project -q) \\\n",
    "  -e crd_path=~/smartvillage-operator/kustomize/overlays/sandbox/smartabyarsmartvillages/smartvillage/smartabyarsmartvillage.yaml\n",
    "echo DONE"
   ]
  },
  {
   "cell_type": "markdown",
   "id": "84fcb237-b4e5-491a-97c2-8f89b1831971",
   "metadata": {
    "tags": []
   },
   "source": [
    "### View Smart Village pod details\n",
    "After running the Ansible Playbook, it will take a minute before the Smart Village pod is up and running. Run the command below until the Smart Village pod health checks are `READY 1/1` and `STATUS Running`. "
   ]
  },
  {
   "cell_type": "code",
   "execution_count": null,
   "id": "5920c5e0-1e80-4fd8-bdde-02b4c2ac8ecc",
   "metadata": {
    "tags": []
   },
   "outputs": [],
   "source": [
    "%%bash\n",
    "oc get pod -l app=smartabyar-smartvillage-web\n",
    "oc wait pod -l app=smartabyar-smartvillage-web --for=condition=Ready --timeout=5m\n",
    "oc get pod -l app=smartabyar-smartvillage-web\n",
    "\n",
    "oc get pod -l app=ngsild-smartvillage-sync\n",
    "oc wait pod -l app=ngsild-smartvillage-sync --for=condition=Ready --timeout=5m\n",
    "oc get pod -l app=ngsild-smartvillage-sync\n",
    "echo DONE"
   ]
  },
  {
   "cell_type": "markdown",
   "id": "af5cff64-146b-480d-884e-6d9641286136",
   "metadata": {
    "tags": []
   },
   "source": [
    "## Next...\n",
    "If you have successfully ran all of the commands above, congratulations, you are ready to move on to the next notebook in the course. \n",
    "- If you have additional questions or issues, please [create an issue for the course here](https://github.com/smartabyar-smartvillage/smartabyar-smartvillage-sandbox-course/issues). \n",
    "- Otherwise, please continue to the next notebook [03-about-mongodb.ipynb](03-about-mongodb.ipynb). \n"
   ]
  },
  {
   "cell_type": "code",
   "execution_count": null,
   "id": "41e62855-e429-4a5c-a83c-99d46a669340",
   "metadata": {},
   "outputs": [],
   "source": []
  }
 ],
 "metadata": {
  "kernelspec": {
   "display_name": "Python 3.9",
   "language": "python",
   "name": "python3"
  },
  "language_info": {
   "codemirror_mode": {
    "name": "ipython",
    "version": 3
   },
   "file_extension": ".py",
   "mimetype": "text/x-python",
   "name": "python",
   "nbconvert_exporter": "python",
   "pygments_lexer": "ipython3",
   "version": "3.9.18"
  }
 },
 "nbformat": 4,
 "nbformat_minor": 5
}
