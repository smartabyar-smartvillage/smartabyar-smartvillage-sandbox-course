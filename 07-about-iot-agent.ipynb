{
 "cells": [
  {
   "cell_type": "markdown",
   "id": "0518244f-cf18-45c3-8ee1-3cbbecfba478",
   "metadata": {},
   "source": [
    "## About the ScorpioBroker context broker in the Smart Village Platform\n",
    "\n",
    "> Why do some  people think reactive applications like an IoT Agent are lazy? Because they need to be commanded in all things. \n",
    "\n",
    "An IoT Agent receives messages from smart devices to update the device state, or perform some kind of action on the device. The IoT Agent is a reactive application that can register smart devices, connect to various types of message brokers, receive messages in a native device protocol, and send updates to a context broker following the NGSI-LD standard format for smart device data. You can find the full [NGSI-LD API Operation Definition in section 5 of this PDF]. NGSI-LD stores entities as the primary data stored. Entities can be any data representing any [Smart Device Model data](https://github.com/smart-data-models) in the world. There are so many Smart Data Models in the world, but they can be grouped into the following domains: Smart Cities, Smart Agrifood, Smart Water, Smart Energy,  Smart Logistics, Smart Robotics, Smart Sensoring, Cross sector, Smart Health, Smart Destination, Smart Environment, Smart Aeronautics, Smart Manufacturing, Incubated,  Harmonization. Don't feel limited to stick to these domains, you can create your own smart data models and follow the NGSI-LD specification to confirm to all the latest open standards for managing smart device data. Here are some of the native device protocols and corresponding IoT Agents that can connect the device to the context broker. \n",
    "\n",
    "\n",
    "- [IoTAgent-JSON](https://fiware-iotagent-json.readthedocs.io/en/latest/) - a bridge between HTTP/MQTT messaging (with a JSON payload) and NGSI\n",
    "- [IoTAgent-LWM2M](https://fiware-iotagent-lwm2m.readthedocs.io/en/latest) - a bridge between the Lightweight M2M protocol and NGSI\n",
    "- [IoTAgent-UL](https://fiware-iotagent-ul.readthedocs.io/en/latest) - a bridge between HTTP/MQTT messaging (with an UltraLight2.0 payload) and NGSI\n",
    "- [IoTAgent-LoRaWAN](https://fiware-lorawan.readthedocs.io/en/latest) - a bridge between the LoRaWAN protocol and NGSI\n",
    "- [IoTagent-OPCUA](https://iotagent-opcua.readthedocs.io/en/latest/) - a bridge between the OPC-UA protocol and NGSI\n"
   ]
  },
  {
   "cell_type": "markdown",
   "id": "d93baf20-7419-4c47-be53-2e33907fe263",
   "metadata": {},
   "source": [
    "## Deploy the IoT Agent JSON in the OpenShift Developer Sandbox"
   ]
  },
  {
   "cell_type": "markdown",
   "id": "3943fe77-0430-48b2-9a25-95ea67e3a887",
   "metadata": {},
   "source": [
    "If you are curious what the IoTAgentJson custom resource definition looks like that you are deploying in the Sandbox, run the command below. "
   ]
  },
  {
   "cell_type": "code",
   "execution_count": null,
   "id": "1ef2f6bc-4e99-4e05-9cba-1dc7209117f2",
   "metadata": {},
   "outputs": [],
   "source": [
    "%%bash\n",
    "cat ~/smartvillage-operator/kustomize/overlays/sandbox/iotagentjsons/iotagent-json/iotagentjson.yaml\n",
    "echo DONE"
   ]
  },
  {
   "cell_type": "markdown",
   "id": "04f389b6-e614-4e31-ab23-39e4ae7923c8",
   "metadata": {},
   "source": [
    "Here are some useful things to note about the configuration of the IoT Agent JSON. \n",
    "\n",
    "- `ngsild:` We configure the host and port of the context broker, we use the ScorpioBroker host and port in the same namespace. \n",
    "- `mongodb:` We configure the name of MongoDB, and the kubernetes Secret name and key for the MongoDB password. This allows us to connect to MongoDB to store smart device registrations. \n",
    "- `message_broker:` We configure the host of the message broker, and the kubernetes Secret name and key for the RabbitMQ password. This allows us to connect to RabbitMQ and start listening for messages. \n",
    "- `replicas: 1` We'll only deploy 1 replica for this Sandbox environment to stay within the resource quota of the Developer Sandbox. \n",
    "- `route`: We create a public route for the IoT Agent API if you want to interact with it from your own computer. \n",
    "- The `resources:` definition defines the memory and CPU requests and limits for our IoT Agent JSON pod. We have to keep this lower than I would recommend for a production deployment because we have limited resources available in the Developer Sandbox for the many running Smart Village services. \n",
    "\n",
    "For more information about the IoTAgentJson custom resource definition, [see the full IoTAgentJson schema here](https://github.com/smartabyar-smartvillage/smartvillage-operator/blob/main/config/crd/bases/smartvillage.computate.org_iotagentjsons.yaml). "
   ]
  },
  {
   "cell_type": "markdown",
   "id": "70ca3ce7-adc9-43a3-b137-9f307f8aaf1f",
   "metadata": {},
   "source": [
    "Run the Ansible Playbook below to deploy IoT Agent JSON to the cloud. "
   ]
  },
  {
   "cell_type": "code",
   "execution_count": null,
   "id": "070cfdaa-115f-4759-b21b-4b22e81457a5",
   "metadata": {},
   "outputs": [],
   "source": [
    "%%bash\n",
    "ansible-playbook ~/smartvillage-operator/apply-iotagentjson.yaml \\\n",
    "  -e ansible_operator_meta_namespace=$(oc project -q) \\\n",
    "  -e crd_path=~/smartvillage-operator/kustomize/overlays/sandbox/iotagentjsons/iotagent-json/iotagentjson.yaml\n",
    "echo DONE"
   ]
  },
  {
   "cell_type": "markdown",
   "id": "97ed8e73-d21c-4869-9bba-48ff75b24328",
   "metadata": {
    "tags": []
   },
   "source": [
    "### View IoT Agent pod details\n",
    "After running the Ansible Playbook, it will take a minute before the IoT Agent pod is up and running. Run the command below until the IoT Agent pod health checks are `READY 1/1` and `STATUS Running`. "
   ]
  },
  {
   "cell_type": "code",
   "execution_count": null,
   "id": "dfd2149b-34b8-4b0a-a9ca-71782601d154",
   "metadata": {
    "tags": []
   },
   "outputs": [],
   "source": [
    "%%bash\n",
    "oc get pod -l app.kubernetes.io/instance=iotagent-json\n",
    "oc wait pod -l app.kubernetes.io/instance=iotagent-json --for=condition=Ready --timeout=2m\n",
    "oc get pod -l app.kubernetes.io/instance=iotagent-json\n",
    "echo DONE"
   ]
  },
  {
   "cell_type": "markdown",
   "id": "cd198430-2694-4c59-a256-d7a08367cecd",
   "metadata": {},
   "source": [
    "### View IoT Agent JSON pod logs\n",
    "If your IoT Agent JSON pod does not reach the STATUS Running, you can run the command below to view the pod logs of IoT Agent JSON and check for other errors that may have occured. "
   ]
  },
  {
   "cell_type": "code",
   "execution_count": null,
   "id": "c3ed9ecc-6d74-4711-a27e-242094fe05a2",
   "metadata": {},
   "outputs": [],
   "source": [
    "%%bash\n",
    "oc logs -l app.kubernetes.io/instance=scorpiobroker\n",
    "echo DONE"
   ]
  },
  {
   "cell_type": "markdown",
   "id": "8e50c315-685d-41e5-8dea-fec9e6861371",
   "metadata": {},
   "source": [
    "## Next...\n",
    "I hope that answers your questions about IoT Agent JSON in the Smart Village Platform. \n",
    "- If you have additional questions or issues, please [create an issue for the course here](https://github.com/smartabyar-smartvillage/smartabyar-smartvillage-sandbox-course/issues). \n",
    "- Otherwise, please continue to the next notebook [08-about-zookeeper.ipynb](08-about-zookeeper.ipynb). "
   ]
  },
  {
   "cell_type": "code",
   "execution_count": null,
   "id": "a3d68b82-e612-4147-a4bd-f4ca0c7cfd05",
   "metadata": {},
   "outputs": [],
   "source": []
  }
 ],
 "metadata": {
  "kernelspec": {
   "display_name": "Python 3.9",
   "language": "python",
   "name": "python3"
  },
  "language_info": {
   "codemirror_mode": {
    "name": "ipython",
    "version": 3
   },
   "file_extension": ".py",
   "mimetype": "text/x-python",
   "name": "python",
   "nbconvert_exporter": "python",
   "pygments_lexer": "ipython3",
   "version": "3.9.18"
  }
 },
 "nbformat": 4,
 "nbformat_minor": 5
}
