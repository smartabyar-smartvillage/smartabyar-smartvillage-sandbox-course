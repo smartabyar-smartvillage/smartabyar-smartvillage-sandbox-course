{
 "cells": [
  {
   "cell_type": "markdown",
   "id": "0518244f-cf18-45c3-8ee1-3cbbecfba478",
   "metadata": {},
   "source": [
    "## About the Apache Zookeeper cluster manager in the Smart Village Platform\n",
    "\n",
    "> \"Manager, I need you to raise my salary because 3 companies are after after me.\" - Employee\n",
    "\n",
    "> \"What companies are those?\" - Manager\n",
    "\n",
    "> \"The electric company, gas company, and water company\" - Employee\n",
    "\n",
    "A cluster manager like Apache Zookeeper is required for distributing messages and workloads to multiple pods of reactive/asynchronous microservices like Apache Solr and the Smart Village Platform. \n"
   ]
  },
  {
   "cell_type": "markdown",
   "id": "d93baf20-7419-4c47-be53-2e33907fe263",
   "metadata": {},
   "source": [
    "## Deploy Zookeeper in the OpenShift Developer Sandbox"
   ]
  },
  {
   "cell_type": "markdown",
   "id": "3943fe77-0430-48b2-9a25-95ea67e3a887",
   "metadata": {},
   "source": [
    "If you are curious what the EdgeZookeeper custom resource definition looks like that you are deploying in the Sandbox, run the command below. "
   ]
  },
  {
   "cell_type": "code",
   "execution_count": null,
   "id": "1ef2f6bc-4e99-4e05-9cba-1dc7209117f2",
   "metadata": {},
   "outputs": [],
   "source": [
    "%%bash\n",
    "cat ~/smartvillage-operator/kustomize/overlays/sandbox/edgezookeepers/default/edgezookeeper.yaml\n",
    "echo DONE"
   ]
  },
  {
   "cell_type": "markdown",
   "id": "04f389b6-e614-4e31-ab23-39e4ae7923c8",
   "metadata": {},
   "source": [
    "Here are some useful things to note about the configuration of Zookeeper. \n",
    "\n",
    "- `host: zookeeper` This is the host within the namespace where we will verify that the Zookeeper service is running and accessible. \n",
    "- `replicas: 1` We'll only deploy 1 replica for this Sandbox environment to stay within the resource quota of the Developer Sandbox. \n",
    "- The `resources:` definition defines the memory and CPU requests and limits for our Zookeeper pod. We have to keep this lower than I would recommend for a production deployment because we have limited resources available in the Developer Sandbox for the many running Smart Village services. \n",
    "\n",
    "For more information about the EdgeZookeeper custom resource definition, [see the full EdgeZookeeper schema here](https://github.com/smartabyar-smartvillage/smartvillage-operator/blob/main/config/crd/bases/smartvillage.computate.org_edgezookeepers.yaml). "
   ]
  },
  {
   "cell_type": "markdown",
   "id": "3934c404-20e8-4db8-8034-81e9c8a9af38",
   "metadata": {},
   "source": [
    "Run the Ansible Playbook below to deploy Zookeeper to the cloud. "
   ]
  },
  {
   "cell_type": "code",
   "execution_count": null,
   "id": "052af8c4-d42e-4d80-a270-c98c23cfca76",
   "metadata": {},
   "outputs": [],
   "source": [
    "%%bash\n",
    "ansible-playbook ~/smartvillage-operator/apply-edgezookeeper.yaml \\\n",
    "  -e ansible_operator_meta_namespace=$(cat /var/run/secrets/kubernetes.io/serviceaccount/namespace) \\\n",
    "  -e crd_path=~/smartvillage-operator/kustomize/overlays/sandbox/edgezookeepers/default/edgezookeeper.yaml\n",
    "echo DONE"
   ]
  },
  {
   "cell_type": "markdown",
   "id": "e289ea16-085b-4021-b816-85d66320b955",
   "metadata": {
    "tags": []
   },
   "source": [
    "### View Zookeeper pod details\n",
    "After running the Ansible Playbook, it will take a minute before the Zookeeper pod is up and running. Run the command below until the Zookeeper pod health checks are `READY 1/1` and `STATUS Running`. "
   ]
  },
  {
   "cell_type": "code",
   "execution_count": null,
   "id": "dcae73ba-5acf-4fb2-970d-3e0772e084f9",
   "metadata": {
    "tags": []
   },
   "outputs": [],
   "source": [
    "%%bash\n",
    "oc get pod -l app=zookeeper\n",
    "oc wait pod -l app=zookeeper --for=condition=Ready --timeout=2m\n",
    "oc get pod -l app=zookeeper\n",
    "echo DONE"
   ]
  },
  {
   "cell_type": "markdown",
   "id": "cd198430-2694-4c59-a256-d7a08367cecd",
   "metadata": {},
   "source": [
    "### View Zookeeper pod logs\n",
    "If your Zookeeper pod does not reach the STATUS Running, you can run the command below to view the pod logs of Zookeeper and check for other errors that may have occured. "
   ]
  },
  {
   "cell_type": "code",
   "execution_count": null,
   "id": "c3ed9ecc-6d74-4711-a27e-242094fe05a2",
   "metadata": {},
   "outputs": [],
   "source": [
    "%%bash\n",
    "oc logs -l app=zookeeper\n",
    "echo DONE"
   ]
  },
  {
   "cell_type": "markdown",
   "id": "8e50c315-685d-41e5-8dea-fec9e6861371",
   "metadata": {},
   "source": [
    "## Next...\n",
    "I hope that answers your questions about Zookeeper in the Smart Village Platform. \n",
    "- If you have additional questions or issues, please [create an issue for the course here](https://github.com/smartabyar-smartvillage/smartabyar-smartvillage-sandbox-course/issues). \n",
    "- Otherwise, please continue to the next notebook [09-about-solr.ipynb](09-about-solr.ipynb). "
   ]
  },
  {
   "cell_type": "code",
   "execution_count": null,
   "id": "a3d68b82-e612-4147-a4bd-f4ca0c7cfd05",
   "metadata": {},
   "outputs": [],
   "source": []
  }
 ],
 "metadata": {
  "kernelspec": {
   "display_name": "Python 3.9",
   "language": "python",
   "name": "python3"
  },
  "language_info": {
   "codemirror_mode": {
    "name": "ipython",
    "version": 3
   },
   "file_extension": ".py",
   "mimetype": "text/x-python",
   "name": "python",
   "nbconvert_exporter": "python",
   "pygments_lexer": "ipython3",
   "version": "3.9.18"
  }
 },
 "nbformat": 4,
 "nbformat_minor": 5
}
