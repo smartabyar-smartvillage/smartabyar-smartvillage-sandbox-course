{
 "cells": [
  {
   "cell_type": "markdown",
   "id": "0518244f-cf18-45c3-8ee1-3cbbecfba478",
   "metadata": {},
   "source": [
    "## About the MongoDB NOSQL Database in the Smart Village Platform\n",
    "\n",
    "Have you heard this joke? One day a police officer pulls over MongoDB. The officer says MongoDB was driving too fast, and asks MongoDB to show some ID. MongoDB tells the officer, \"Sorry, I don't have any ID. I find nothing in my wallet collection, `db.wallet.find()`. \n",
    "\n",
    "A MongoDB No-SQL Database is required for FIWARE IoT Agents to store smart device registration data about each smart device in the project. Each smart device that we register in the application is stored as a record in MongoDB. We store multiple vehicle traffic camera devices, and multiple pedestrian traffic cameras as individual smart device records in the IoT Agent, which stores the data in MongoDB. \n"
   ]
  },
  {
   "cell_type": "markdown",
   "id": "719feb12-855f-4bf3-8dfb-6d9acc15b0b6",
   "metadata": {},
   "source": [
    "## Deploy the MongoDB NOSQL Database in the OpenShift Developer Sandbox"
   ]
  },
  {
   "cell_type": "markdown",
   "id": "2d6cb41c-faaa-4b09-b47c-e56dacefe4c9",
   "metadata": {},
   "source": [
    "If you are curious what the EdgeMongoDB custom resource definition looks like that you are deploying in the Sandbox, run the command below. "
   ]
  },
  {
   "cell_type": "code",
   "execution_count": null,
   "id": "6d349624-3fdb-47a5-a9b0-47e8fed9af19",
   "metadata": {},
   "outputs": [],
   "source": [
    "%%bash\n",
    "cat ~/smartvillage-operator/kustomize/overlays/sandbox/edgemongodbs/mongodb/edgemongodb.yaml\n",
    "echo DONE"
   ]
  },
  {
   "cell_type": "markdown",
   "id": "07e24d9a-b3a3-4b92-bc92-cbedf957120a",
   "metadata": {},
   "source": [
    "Here are some useful things to note about the configuration of MongoDB. \n",
    "\n",
    "- The `resources:` definition defines the memory and CPU requests and limits for our MongoDB pod. We have to keep this lower than I would recommend for a production deployment because we have limited resources available in the Developer Sandbox for the many running Smart Village services. \n",
    "\n",
    "For more information about the EdgeRabbitmq custom resource definition, [see the full EdgeMongoDB schema here](https://github.com/smartabyar-smartvillage/smartvillage-operator/blob/main/config/crd/bases/smartvillage.computate.org_edgemongodbs.yaml). "
   ]
  },
  {
   "cell_type": "markdown",
   "id": "f00376f4-858e-4948-a36a-0c88a04b2781",
   "metadata": {},
   "source": [
    "Run the Ansible Playbook below to deploy MongoDB to the cloud. "
   ]
  },
  {
   "cell_type": "code",
   "execution_count": null,
   "id": "9fb2d521-78ed-4555-9d62-64add20ec1f0",
   "metadata": {},
   "outputs": [],
   "source": [
    "%%bash\n",
    "ansible-playbook ~/smartvillage-operator/apply-edgemongodb.yaml \\\n",
    "  -e ansible_operator_meta_namespace=$(oc project -q) \\\n",
    "  -e crd_path=~/smartvillage-operator/kustomize/overlays/sandbox/edgemongodbs/mongodb/edgemongodb.yaml\n",
    "echo DONE"
   ]
  },
  {
   "cell_type": "markdown",
   "id": "ed01eb4d-e08b-46ae-b143-c21569cfd3c7",
   "metadata": {},
   "source": [
    "### View MongoDB pod details\n",
    "After running the Ansible Playbook, it will take a minute before the MongoDB pod is up and running. Run the command below until the MongoDB pod health checks are `READY 2/2` and `STATUS Running`. "
   ]
  },
  {
   "cell_type": "code",
   "execution_count": null,
   "id": "2c60bc2b-246a-42ed-80c0-b0f5f836219b",
   "metadata": {},
   "outputs": [],
   "source": [
    "%%bash\n",
    "oc get pod -l app.kubernetes.io/instance=mongodb\n",
    "oc wait pod -l app.kubernetes.io/instance=mongodb --for=condition=Ready --timeout=2m\n",
    "oc get pod -l app.kubernetes.io/instance=mongodb\n",
    "echo DONE"
   ]
  },
  {
   "cell_type": "markdown",
   "id": "cd198430-2694-4c59-a256-d7a08367cecd",
   "metadata": {},
   "source": [
    "### View MongoDB pod logs\n",
    "If your MongoDB pod does not reach the STATUS Running, you can run the command below to view the pod logs of MongoDB and check for other errors that may have occured. "
   ]
  },
  {
   "cell_type": "code",
   "execution_count": null,
   "id": "c3ed9ecc-6d74-4711-a27e-242094fe05a2",
   "metadata": {},
   "outputs": [],
   "source": [
    "%%bash\n",
    "oc logs -l app.kubernetes.io/instance=mongodb\n",
    "echo DONE"
   ]
  },
  {
   "cell_type": "markdown",
   "id": "8e50c315-685d-41e5-8dea-fec9e6861371",
   "metadata": {},
   "source": [
    "## Next...\n",
    "I hope that answers your questions about MongoDB in the Smart Village Platform. \n",
    "- If you have additional questions or issues, please [create an issue for the course here](https://github.com/smartabyar-smartvillage/smartabyar-smartvillage-sandbox-course/issues). \n",
    "- Otherwise, please continue to the next notebook [04-about-rabbitmq.ipynb](04-about-rabbitmq.ipynb). "
   ]
  },
  {
   "cell_type": "code",
   "execution_count": null,
   "id": "a3d68b82-e612-4147-a4bd-f4ca0c7cfd05",
   "metadata": {},
   "outputs": [],
   "source": []
  }
 ],
 "metadata": {
  "kernelspec": {
   "display_name": "Python 3.9",
   "language": "python",
   "name": "python3"
  },
  "language_info": {
   "codemirror_mode": {
    "name": "ipython",
    "version": 3
   },
   "file_extension": ".py",
   "mimetype": "text/x-python",
   "name": "python",
   "nbconvert_exporter": "python",
   "pygments_lexer": "ipython3",
   "version": "3.9.18"
  }
 },
 "nbformat": 4,
 "nbformat_minor": 5
}
