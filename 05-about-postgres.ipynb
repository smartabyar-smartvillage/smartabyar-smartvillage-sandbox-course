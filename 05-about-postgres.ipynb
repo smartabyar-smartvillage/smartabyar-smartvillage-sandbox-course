{
 "cells": [
  {
   "cell_type": "markdown",
   "id": "0518244f-cf18-45c3-8ee1-3cbbecfba478",
   "metadata": {},
   "source": [
    "## About the PostgreSQL relational database in the Smart Village Platform\n",
    "\n",
    "> A SQL statement goes into a restaurant, walks up to two tables, and asks \"may I join you?\" One of the members at one of the tables responds, \"Are we related?\"\n",
    "\n",
    "A relational SQL database like PostgreSQL is required by the ScorpioBroker to store smart device context data for each smart device. We also store configurable user data like traffic simulations, simulation reports, and more in the Smart Village application with PostgreSQL. \n",
    "\n",
    "A relational database like PostgreSQL is where live persistent data in an application belongs. The Smart Village Platform uses two separate tools for storing  data, including a relational database and a search engine. Some data in the Smart Village Platform is stored in the relational database as normalized data and in the search engine as denormalized data in the same database transaction. Normalized data in the relational database is the raw input data received without any additional calculations from the input data being stored. Denormalized data in the search engine is based off of the normalized data in the relational database, but with additional calculations performed to make it easily queriable with all the data required for display in the API or in a graphical dashboard. Some data may come from other sources, in which case it's not necessary to persist the data in the relational database and can be stored only in the search engine for retrieval in the API. PostgreSQL is the very best transactional database with support for IoT device data because it handles geolocation, unstructured, and structured data with confidence and ACID compliance. ACID compliance is a set of database characteristics consisting of Atomicity, Consistency, Isolation, and Durability that ensure that database transactions are completed efficiently. We can take advantage of PostgreSQL in the Smart Village Platform and ScorpioBroker at the same time. \n"
   ]
  },
  {
   "cell_type": "markdown",
   "id": "14566d0e-bd01-4494-9170-439243e64517",
   "metadata": {},
   "source": [
    "## Deploy PostgreSQL in the OpenShift Developer Sandbox\n",
    "\n",
    "Run the command below to deploy the database create SQL scripts as a Kubernetes ConfigMap to the cloud. These scripts will be run later, when the PostgreSQL pod is running to initialize the Smart Village database. "
   ]
  },
  {
   "cell_type": "code",
   "execution_count": null,
   "id": "aeda67dc-7d56-46e3-8947-1f9779c2c9ba",
   "metadata": {},
   "outputs": [],
   "source": [
    "%%bash\n",
    "oc create configmap smartvillage-db-create --from-file ~/smartabyar-smartvillage/src/main/resources/sql/db-create.sql\n",
    "echo DONE"
   ]
  },
  {
   "cell_type": "markdown",
   "id": "27fa6871-c75e-40cf-ab95-4c051d8a36ea",
   "metadata": {},
   "source": [
    "If you are curious what the `db-create.sql` SQL script looks like and what it creates, run the command below. "
   ]
  },
  {
   "cell_type": "code",
   "execution_count": null,
   "id": "3b58be2d-14d8-4f9e-aeb1-a18b33ec93bf",
   "metadata": {},
   "outputs": [],
   "source": [
    "%%bash\n",
    "cat ~/smartabyar-smartvillage/src/main/resources/sql/db-create.sql\n",
    "echo DONE"
   ]
  },
  {
   "cell_type": "markdown",
   "id": "e0d145c6-9853-4eae-a2ee-360a0585ad16",
   "metadata": {},
   "source": [
    "Here are some interesting things to note about the database schema for the Smart Village Platform. \n",
    "\n",
    "- Notice that the SQL script creates new database tables if they do not already exist. \n",
    "- It then creates each table column one-at-a-time if it does not already exist. \n",
    "- Each column is added to a specific table. Each column has a type and a name. \n",
    "- Some columns have additional contstraints like `created timestamp with time zone`. \n",
    "- A column with type `jsonb` can contain unstructured, nested JSON Objects and Arrays. \n",
    "- Some columns are related to other columns in other tables, like `smartTrafficLightKey bigint references SmartTrafficLight(pk)`. \n",
    "- Each table contains the same primary key column to give a unique number value to each record, `pk bigserial primary key`. \n",
    "- Each table also contains a column for optional legacy IDs for storing the previous unique IDs from a legacy application where the records came from. \n"
   ]
  },
  {
   "cell_type": "markdown",
   "id": "d6415ec9-6b13-47a7-b1ba-aaf5b0872e8f",
   "metadata": {},
   "source": [
    "If you are curious what the EdgePostgres custom resource definition looks like that you are deploying in the Sandbox, run the command below. "
   ]
  },
  {
   "cell_type": "code",
   "execution_count": null,
   "id": "d3be46f0-7f54-41bf-8049-2e87177271df",
   "metadata": {},
   "outputs": [],
   "source": [
    "%%bash\n",
    "cat ~/smartvillage-operator/kustomize/overlays/sandbox/edgepostgress/postgres/edgepostgres.yaml\n",
    "echo DONE"
   ]
  },
  {
   "cell_type": "markdown",
   "id": "d2044abe-af7d-4c30-b1b8-e05a00dde378",
   "metadata": {},
   "source": [
    "Here are some useful things to note about the configuration of PostgreSQL. \n",
    "\n",
    "- `enable_dev_nodeports: false` It's possible to enable nodeports to directly connect to PostgreSQL from your local computer, but not in the Developer Sandbox, so we set this to false. \n",
    "- `crunchy: false` We can deploy the database with the Crunchy Postgres Operator, but Crunchy requires a large amount of memory and CPU resource quota, so we deploy a simplified container of Postgres instead in the Sandbox environment. \n",
    "- The `smartvillage-db-create` configMap definition configures the `db-create.sql` SQL script we looked at earlier to be run as part of the deployment. \n",
    "- The `instances:` definition defines the memory and CPU requests and limits for our database pod. We have to keep this lower than I would recommend for a production deployment because we have limited resources available in the Developer Sandbox for the many running Smart Village services. \n",
    "- The `users:` definition creates a `smartvillage` database with a a `smartvillage` user as the owner, and a `scorpiobroker` database with a `scorpiobroker` user as the owner. \n",
    "- The `pg_hba:` definition allows the database users to be trusted to connect to their given databases and the correct password, which is automatically generated during deployment. \n",
    "\n",
    "For more information about the EdgePostgres custom resource definition, [see the full EdgePostgres schema here](https://github.com/smartabyar-smartvillage/smartvillage-operator/blob/main/config/crd/bases/smartvillage.computate.org_edgepostgress.yaml). "
   ]
  },
  {
   "cell_type": "markdown",
   "id": "e588c442-d782-4e3d-9437-09682c60d779",
   "metadata": {
    "tags": []
   },
   "source": [
    "Run the Ansible Playbook below to deploy PostgreSQL to the cloud. "
   ]
  },
  {
   "cell_type": "code",
   "execution_count": null,
   "id": "0d4b473b-9363-4433-b3a5-5a1b099c2898",
   "metadata": {},
   "outputs": [],
   "source": [
    "%%bash\n",
    "ansible-playbook ~/smartvillage-operator/apply-edgepostgres.yaml \\\n",
    "  -e ansible_operator_meta_namespace=$(cat /var/run/secrets/kubernetes.io/serviceaccount/namespace) \\\n",
    "  -e crd_path=~/smartvillage-operator/kustomize/overlays/sandbox/edgepostgress/postgres/edgepostgres.yaml\n",
    "echo DONE"
   ]
  },
  {
   "cell_type": "markdown",
   "id": "90352f02-1654-4972-a462-9e87ac2f0078",
   "metadata": {},
   "source": [
    "You may see a play recap that has failed. \n",
    "This is expected because the postgres pod is just now getting created. \n",
    "The final tasks in the playbook expect the database create SQL scripts to be run for the smartvillage application in postgres. \n",
    "\n",
    "Retry the playbook once the postgres pod is running. \n"
   ]
  },
  {
   "cell_type": "markdown",
   "id": "c2b007e6-330c-4f9a-9b28-84b325de1dff",
   "metadata": {
    "tags": []
   },
   "source": [
    "### View PostgreSQL pod details\n",
    "After running the Ansible Playbook, it will take a minute before the PostgreSQL pod is up and running. Run the command below until the PostgreSQL pod health checks are `READY 1/1` and `STATUS Running`. "
   ]
  },
  {
   "cell_type": "code",
   "execution_count": null,
   "id": "bccb18bb-bc56-4657-9c8e-c5385d55247e",
   "metadata": {
    "tags": []
   },
   "outputs": [],
   "source": [
    "%%bash\n",
    "oc get pod -l app=postgres\n",
    "oc wait pod -l app=postgres --for=condition=Ready --timeout=2m\n",
    "oc get pod -l app=postgres\n",
    "echo DONE"
   ]
  },
  {
   "cell_type": "markdown",
   "id": "c508644c-0c8b-4a6e-9be0-fe059abddffd",
   "metadata": {},
   "source": [
    "Now re-run the ansible Playbook to complete the last tasks for PostgreSQL. "
   ]
  },
  {
   "cell_type": "code",
   "execution_count": null,
   "id": "820e639b-65f9-4d6c-b5ee-e11c8b7c45a1",
   "metadata": {},
   "outputs": [],
   "source": [
    "%%bash\n",
    "ansible-playbook ~/smartvillage-operator/apply-edgepostgres.yaml \\\n",
    "  -e ansible_operator_meta_namespace=$(cat /var/run/secrets/kubernetes.io/serviceaccount/namespace) \\\n",
    "  -e crd_path=~/smartvillage-operator/kustomize/overlays/sandbox/edgepostgress/postgres/edgepostgres.yaml\n",
    "echo DONE"
   ]
  },
  {
   "cell_type": "markdown",
   "id": "e70911b7-97ae-434d-a79a-6f064a9244fa",
   "metadata": {
    "tags": []
   },
   "source": [
    "### Review the Ansible Playbook for PostgreSQL\n",
    "After running the Ansible Playbook, you should see a PLAY RECAP where no tasks have failed `failed=0`. "
   ]
  },
  {
   "cell_type": "markdown",
   "id": "cd198430-2694-4c59-a256-d7a08367cecd",
   "metadata": {},
   "source": [
    "### View PostgreSQL pod logs\n",
    "If your PostgreSQL pod does not reach the STATUS Running, you can run the command below to view the pod logs of PostgreSQL and check for other errors that may have occured. "
   ]
  },
  {
   "cell_type": "code",
   "execution_count": null,
   "id": "c3ed9ecc-6d74-4711-a27e-242094fe05a2",
   "metadata": {},
   "outputs": [],
   "source": [
    "%%bash\n",
    "oc logs -l app=postgres\n"
   ]
  },
  {
   "cell_type": "markdown",
   "id": "8e50c315-685d-41e5-8dea-fec9e6861371",
   "metadata": {},
   "source": [
    "## Next...\n",
    "I hope that answers your questions about PostgreSQL in the Smart Village Platform. \n",
    "- If you have additional questions or issues, please [create an issue for the course here](https://github.com/smartabyar-smartvillage/smartabyar-smartvillage-sandbox-course/issues). \n",
    "- Otherwise, please continue to the next notebook [06-about-scorpiobroker.ipynb](06-about-scorpiobroker.ipynb). "
   ]
  },
  {
   "cell_type": "code",
   "execution_count": null,
   "id": "a3d68b82-e612-4147-a4bd-f4ca0c7cfd05",
   "metadata": {},
   "outputs": [],
   "source": []
  }
 ],
 "metadata": {
  "kernelspec": {
   "display_name": "Python 3.9",
   "language": "python",
   "name": "python3"
  },
  "language_info": {
   "codemirror_mode": {
    "name": "ipython",
    "version": 3
   },
   "file_extension": ".py",
   "mimetype": "text/x-python",
   "name": "python",
   "nbconvert_exporter": "python",
   "pygments_lexer": "ipython3",
   "version": "3.9.18"
  }
 },
 "nbformat": 4,
 "nbformat_minor": 5
}
